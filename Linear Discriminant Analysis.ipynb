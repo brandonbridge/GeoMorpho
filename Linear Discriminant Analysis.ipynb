{
 "cells": [
  {
   "cell_type": "markdown",
   "metadata": {},
   "source": [
    "### This loads the necessary libraries and modules"
   ]
  },
  {
   "cell_type": "code",
   "execution_count": 1,
   "metadata": {},
   "outputs": [],
   "source": [
    "import pandas as pd\n",
    "import numpy as np\n",
    "import matplotlib.pyplot as plt\n",
    "from sklearn.preprocessing import StandardScaler\n",
    "from matplotlib import style\n",
    "from sklearn.model_selection import train_test_split\n",
    "style.use('fivethirtyeight')\n",
    "from sklearn.neighbors import KNeighborsClassifier\n",
    "from sklearn.discriminant_analysis import LinearDiscriminantAnalysis"
   ]
  },
  {
   "cell_type": "markdown",
   "metadata": {},
   "source": [
    "## Load data and split the descriptive and target feature"
   ]
  },
  {
   "cell_type": "code",
   "execution_count": 4,
   "metadata": {},
   "outputs": [
    {
     "name": "stdout",
     "output_type": "stream",
     "text": [
      "[[-0.21307074 -0.15158106 -0.16685782 -0.2946309   0.09752457  0.17589184\n",
      "   0.28232615 -0.02663947  0.21125882  0.22719396  0.01723971 -0.19899718\n",
      "  -0.33279848  0.01163529  0.00934979  0.47114608 -0.06271278  0.11149031\n",
      "  -0.27113886  0.03741176  0.19763884  0.13097278  0.077122   -0.3397746 ]\n",
      " [-0.2520832  -0.14335651 -0.15276463 -0.18666983  0.11079739  0.26179574\n",
      "   0.29464117 -0.04484822  0.2426408   0.22636817  0.00137257 -0.21753497\n",
      "  -0.3169487  -0.05583965 -0.21155465  0.36609863 -0.0367526   0.15946961\n",
      "  -0.19147698  0.06080958  0.27221347  0.06007072  0.10781744 -0.35426536]\n",
      " [-0.23560627 -0.13592874 -0.16698609 -0.21351951  0.12950558  0.26726547\n",
      "   0.28046691 -0.04223177  0.2652229   0.20873397  0.01702656 -0.20612031\n",
      "  -0.30059068 -0.0938303  -0.19905197  0.38756613 -0.06204785  0.0848707\n",
      "  -0.21862033  0.08432786  0.28785511  0.09156978  0.10317867 -0.33305581]\n",
      " [-0.2524823  -0.11277421 -0.06037479 -0.23689591  0.07473006  0.23540753\n",
      "   0.27456286 -0.02456588  0.22444466  0.21606761  0.02326144 -0.24552094\n",
      "  -0.29502585 -0.03143732 -0.16870457  0.38097267 -0.06049811  0.16546747\n",
      "  -0.21839996  0.03258331  0.24916344  0.13120086  0.09870072 -0.3998828 ]\n",
      " [-0.2698422  -0.11607381 -0.12937641 -0.22386527  0.07095374  0.23349584\n",
      "   0.24106795 -0.01670973  0.24195553  0.28228307  0.00982504 -0.22438212\n",
      "  -0.32252247 -0.02854503 -0.10192567  0.40482136 -0.04194576  0.10313638\n",
      "  -0.2346119   0.04261021  0.23478919  0.12266945  0.07988534 -0.35769274]]\n",
      "['M' 'F' 'F' 'F' 'F']\n",
      "['M' 'M' 'M' 'M' 'M' 'M' 'M' 'M' 'M' 'M' 'M' 'M' 'M' 'M' 'M' 'F' 'F' 'M'\n",
      " 'M' 'M' 'M' 'M' 'M' 'M' 'M' 'M' 'F' 'F' 'M' 'M' 'M' 'M' 'M' 'M' 'M' 'M'\n",
      " 'M' 'M' 'F' 'F' 'M' 'M' 'F' 'F' 'F' 'F' 'F' 'F' 'M' 'M' 'M' 'M' 'M' 'M'\n",
      " 'M' 'M' 'M' 'M' 'F' 'F' 'M' 'M' 'M' 'M' 'M' 'M' 'M' 'M' 'M' 'M' 'M' 'M'\n",
      " 'M' 'F' 'F' 'F' 'M' 'M' 'M' 'M' 'M' 'M' 'M' 'M' 'M' 'M' 'F' 'M' 'M' 'M'\n",
      " 'F' 'M' 'M' 'M' 'M' 'M' 'M' 'M' 'M' 'M' 'M' 'M' 'M' 'M' 'M' 'M' 'M' 'M'\n",
      " 'M' 'M' 'M' 'M' 'M' 'M' 'M' 'F' 'F' 'F' 'M' 'M' 'F' 'F' 'F' 'F' 'M' 'M'\n",
      " 'M' 'M' 'M' 'M' 'M' 'M' 'M' 'M' 'M' 'F' 'F' 'M' 'M' 'F' 'F' 'F' 'F' 'F'\n",
      " 'F' 'M' 'M' 'M' 'M' 'M' 'M' 'F' 'F' 'M' 'M' 'F' 'F' 'M' 'M' 'F' 'M' 'M'\n",
      " 'M' 'M' 'M' 'M' 'M' 'M' 'M' 'F' 'M' 'M' 'F' 'F' 'F' 'F' 'F' 'F' 'F' 'F'\n",
      " 'M' 'M' 'M' 'M' 'M' 'M' 'M' 'M' 'F' 'F' 'M' 'M' 'F' 'F' 'M' 'M' 'F' 'F'\n",
      " 'F' 'F' 'F' 'F' 'F' 'F' 'F' 'F' 'M' 'M' 'F' 'F' 'F' 'F' 'M' 'M' 'F' 'F'\n",
      " 'F' 'F' 'M' 'M' 'F' 'F' 'F' 'M' 'M' 'M' 'M' 'M' 'M' 'M' 'M' 'M' 'M' 'M'\n",
      " 'M' 'M' 'M' 'F' 'F' 'F' 'M' 'M' 'M' 'M' 'M' 'M' 'M' 'M' 'M' 'M' 'F' 'F'\n",
      " 'M' 'M' 'M' 'M' 'M' 'M' 'M' 'M' 'M' 'M' 'M' 'M' 'F' 'F' 'F' 'M' 'M' 'F'\n",
      " 'F' 'M' 'M' 'F' 'F' 'M' 'M' 'M' 'M' 'F' 'F' 'F' 'F' 'M' 'F' 'F' 'M' 'M'\n",
      " 'F' 'F' 'F' 'F' 'M' 'M' 'M' 'M' 'F' 'F' 'M' 'M' 'F' 'F' 'F' 'F' 'F' 'F'\n",
      " 'F' 'F' 'F' 'F' 'M' 'M' 'F' 'F' 'F' 'F' 'F' 'F' 'M' 'M' 'M' 'M' 'M' 'M'\n",
      " 'M' 'M' 'F' 'F' 'F' 'F' 'F' 'F' 'F' 'F' 'M' 'M' 'F' 'F' 'M' 'M' 'F' 'F'\n",
      " 'M' 'M' 'M' 'M' 'M' 'M' 'F' 'F' 'M' 'M' 'F' 'F' 'M' 'M' 'F' 'F' 'F' 'F'\n",
      " 'M' 'M' 'M' 'M' 'M' 'M' 'F' 'F' 'F' 'F' 'M' 'M' 'M' 'M' 'F' 'F' 'F' 'F']\n"
     ]
    }
   ],
   "source": [
    "#Load original procrustes transformed coordinates\n",
    "df1 = pd.read_csv('Proc_Coord1.csv')\n",
    "\n",
    "#Split data so last five observations are left out of model fitting\n",
    "df2 = df1.iloc[:-5]\n",
    "x1 = df2[['x1', 'y1', 'z1', 'x2', 'y2', 'z2', 'x3', 'y3', 'z3', 'x4', 'y4', 'z4', 'x5', 'y5', 'z5', 'x6', 'y6', 'z6', 'x7', 'y7', 'z7', 'x8', 'y8', 'z8']].values\n",
    "\n",
    "#Bring in target variable and split that one as well\n",
    "gender = pd.read_csv('Id_Gender.csv')\n",
    "target = gender['Gender'].values\n",
    "gender1 = gender.iloc[:-5]\n",
    "target1 = gender1['Gender'].values\n",
    "\n",
    "#Gather last five observations and store for later testing\n",
    "tester = df1.iloc[-5:]\n",
    "x1_tester = tester[['x1', 'y1', 'z1', 'x2', 'y2', 'z2', 'x3', 'y3', 'z3', 'x4', 'y4', 'z4', 'x5', 'y5', 'z5', 'x6', 'y6', 'z6', 'x7', 'y7', 'z7', 'x8', 'y8', 'z8']].values\n",
    "print(x1_tester)\n",
    "\n",
    "g_test = gender.iloc[-5:]\n",
    "tester_target = g_test['Gender'].values\n",
    "print(tester_target)\n",
    "print(target)\n",
    "\n",
    "x1_train, x1_test, y1_train, y1_test = train_test_split(x1, target1, test_size=0.3, random_state=0)\n",
    "\n",
    "\n"
   ]
  },
  {
   "cell_type": "markdown",
   "metadata": {},
   "source": [
    "## Fit Model"
   ]
  },
  {
   "cell_type": "code",
   "execution_count": 5,
   "metadata": {},
   "outputs": [
    {
     "name": "stdout",
     "output_type": "stream",
     "text": [
      "0.9616858237547893\n",
      "0.9464285714285714\n",
      "0.9571045576407506\n",
      "['M' 'F' 'F' 'F' 'F']\n"
     ]
    },
    {
     "name": "stderr",
     "output_type": "stream",
     "text": [
      "C:\\Users\\brandon.bridge\\anaconda3\\lib\\site-packages\\sklearn\\discriminant_analysis.py:466: ChangedBehaviorWarning: n_components cannot be larger than min(n_features, n_classes - 1). Using min(n_features, n_classes - 1) = min(24, 2 - 1) = 1 components.\n",
      "  ChangedBehaviorWarning)\n",
      "C:\\Users\\brandon.bridge\\anaconda3\\lib\\site-packages\\sklearn\\discriminant_analysis.py:472: FutureWarning: In version 0.23, setting n_components > min(n_features, n_classes - 1) will raise a ValueError. You should set n_components to None (default), or a value smaller or equal to min(n_features, n_classes - 1).\n",
      "  warnings.warn(future_msg, FutureWarning)\n",
      "C:\\Users\\brandon.bridge\\anaconda3\\lib\\site-packages\\sklearn\\discriminant_analysis.py:388: UserWarning: Variables are collinear.\n",
      "  warnings.warn(\"Variables are collinear.\")\n"
     ]
    }
   ],
   "source": [
    "LDA = LinearDiscriminantAnalysis(n_components=2)\n",
    "x1_lda = LDA.fit_transform(x1_train, y1_train)\n",
    "\n",
    "#print(x1_lda)\n",
    "\n",
    "\n",
    "x1_test_lda = LDA.transform(x1_test)\n",
    "lda1_train_score = LDA.score(x1_train, y1_train)\n",
    "lda1_test_score = LDA.score(x1_test, y1_test)\n",
    "full1_score = LDA.score(x1, target1)\n",
    "print(lda1_train_score)\n",
    "print(lda1_test_score)\n",
    "print(full1_score)\n",
    "\n",
    "#print(x1_train)\n",
    "\n",
    "x1_tester_lda = LDA.transform(x1_tester)\n",
    "tester_prediction = LDA.predict(x1_tester)\n",
    "print(tester_prediction)"
   ]
  },
  {
   "cell_type": "markdown",
   "metadata": {},
   "source": [
    "## Plot Linear Discriminant Scores as Histograms"
   ]
  },
  {
   "cell_type": "code",
   "execution_count": 5,
   "metadata": {},
   "outputs": [
    {
     "data": {
      "image/png": "[encoded data removed]",
      "text/plain": [
       "<Figure size 432x288 with 1 Axes>"
      ]
     },
     "metadata": {
      "needs_background": "light"
     },
     "output_type": "display_data"
    },
    {
     "data": {
      "image/png": "[encoded data removed]",
      "text/plain": [
       "<Figure size 432x288 with 1 Axes>"
      ]
     },
     "metadata": {
      "needs_background": "light"
     },
     "output_type": "display_data"
    }
   ],
   "source": [
    "plt.rcParams[\"patch.force_edgecolor\"] = True\n",
    "\n",
    "plt.hist(x=x1_lda[:,0][y1_train=='M'], color = 'dodgerblue', alpha=0.75, label='male')\n",
    "plt.hist(x=x1_lda[:,0][y1_train=='F'], color = 'crimson', alpha=0.75, label='female')\n",
    "plt.xlabel('Linear Discriminant Scores')\n",
    "plt.ylabel('Frequency')\n",
    "plt.title('Training Data')\n",
    "leg = plt.legend(loc='upper right', fancybox=True)\n",
    "leg.get_frame().set_alpha(0.9)\n",
    "plt.savefig(\"training_LDA.jpeg\", dpi='figure')\n",
    "plt.show()\n",
    "\n",
    "\n",
    "plt.hist(x=x1_test_lda[:,0][y1_test=='M'], color = 'dodgerblue', alpha=0.75, label='male')\n",
    "plt.hist(x=x1_test_lda[:,0][y1_test=='F'], color = 'crimson', alpha=0.75, label='female')\n",
    "plt.xlabel('Linear Discriminant Scores')\n",
    "plt.ylabel('Frequency')\n",
    "plt.title('Testing Data')\n",
    "leg = plt.legend(loc='upper right', fancybox=True)\n",
    "leg.get_frame().set_alpha(0.9)\n",
    "plt.savefig(\"testing_LDA1.jpeg\", dpi='figure')#, bbox_inches='tight')\n",
    "plt.show()"
   ]
  }
 ],
 "metadata": {
  "kernelspec": {
   "display_name": "Python 3",
   "language": "python",
   "name": "python3"
  },
  "language_info": {
   "codemirror_mode": {
    "name": "ipython",
    "version": 3
   },
   "file_extension": ".py",
   "mimetype": "text/x-python",
   "name": "python",
   "nbconvert_exporter": "python",
   "pygments_lexer": "ipython3",
   "version": "3.7.6"
  }
 },
 "nbformat": 4,
 "nbformat_minor": 2
}
